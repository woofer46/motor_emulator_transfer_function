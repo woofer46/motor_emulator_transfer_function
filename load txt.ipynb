{
 "cells": [
  {
   "cell_type": "code",
   "execution_count": 6,
   "metadata": {},
   "outputs": [
    {
     "name": "stdout",
     "output_type": "stream",
     "text": [
      "Using matplotlib backend: TkAgg\n",
      "Populating the interactive namespace from numpy and matplotlib\n"
     ]
    }
   ],
   "source": [
    "import numpy\n",
    "%pylab --no-import-all\n",
    "#%matplotlib notebook\n",
    "#%matplotlib nbagg\n",
    "import matplotlib.pyplot as plt\n"
   ]
  },
  {
   "cell_type": "code",
   "execution_count": 2,
   "metadata": {},
   "outputs": [
    {
     "data": {
      "text/plain": [
       "['nom4', 'nom2', 'nom3', 'nom1', 'nom0', 'nom5']"
      ]
     },
     "execution_count": 2,
     "metadata": {},
     "output_type": "execute_result"
    }
   ],
   "source": [
    "import os\n",
    "os.listdir('log12')"
   ]
  },
  {
   "cell_type": "code",
   "execution_count": 4,
   "metadata": {},
   "outputs": [],
   "source": [
    "list_dir_pwm = ['pwm_sin_2_800','pwm_sin_800','pwm_800']\n",
    "list_dir_omega = ['nom4', 'nom2', 'nom3', 'nom1', 'nom0', 'nom5']"
   ]
  },
  {
   "cell_type": "code",
   "execution_count": 4,
   "metadata": {},
   "outputs": [
    {
     "ename": "NameError",
     "evalue": "name 'time_bk_0' is not defined",
     "output_type": "error",
     "traceback": [
      "\u001b[0;31m---------------------------------------------------------------------------\u001b[0m",
      "\u001b[0;31mNameError\u001b[0m                                 Traceback (most recent call last)",
      "\u001b[0;32m<ipython-input-4-e02297a7ab03>\u001b[0m in \u001b[0;36m<module>\u001b[0;34m()\u001b[0m\n\u001b[1;32m      1\u001b[0m \u001b[0mpylab\u001b[0m\u001b[0;34m.\u001b[0m\u001b[0mfigure\u001b[0m\u001b[0;34m(\u001b[0m\u001b[0;34m)\u001b[0m\u001b[0;34m\u001b[0m\u001b[0m\n\u001b[0;32m----> 2\u001b[0;31m \u001b[0mpylab\u001b[0m\u001b[0;34m.\u001b[0m\u001b[0mplot\u001b[0m\u001b[0;34m(\u001b[0m\u001b[0mtime_bk_0\u001b[0m\u001b[0;34m,\u001b[0m \u001b[0mspeed\u001b[0m \u001b[0;34m*\u001b[0m \u001b[0;36m10\u001b[0m\u001b[0;34m,\u001b[0m \u001b[0mlabel\u001b[0m \u001b[0;34m=\u001b[0m \u001b[0;34m'omega from driver x100 rad/s'\u001b[0m\u001b[0;34m)\u001b[0m\u001b[0;34m\u001b[0m\u001b[0m\n\u001b[0m\u001b[1;32m      3\u001b[0m \u001b[0mpylab\u001b[0m\u001b[0;34m.\u001b[0m\u001b[0mplot\u001b[0m\u001b[0;34m(\u001b[0m\u001b[0mtime_bk_0\u001b[0m\u001b[0;34m,\u001b[0m \u001b[0mcurrent_u\u001b[0m\u001b[0;34m,\u001b[0m \u001b[0mlabel\u001b[0m \u001b[0;34m=\u001b[0m\u001b[0;34m'cur V'\u001b[0m\u001b[0;34m)\u001b[0m\u001b[0;34m\u001b[0m\u001b[0m\n\u001b[1;32m      4\u001b[0m \u001b[0mpylab\u001b[0m\u001b[0;34m.\u001b[0m\u001b[0mplot\u001b[0m\u001b[0;34m(\u001b[0m\u001b[0mtime_bk_0\u001b[0m\u001b[0;34m,\u001b[0m \u001b[0mcurrent_w\u001b[0m\u001b[0;34m,\u001b[0m\u001b[0mlabel\u001b[0m \u001b[0;34m=\u001b[0m\u001b[0;34m'cur W'\u001b[0m\u001b[0;34m)\u001b[0m\u001b[0;34m\u001b[0m\u001b[0m\n\u001b[1;32m      5\u001b[0m \u001b[0mpylab\u001b[0m\u001b[0;34m.\u001b[0m\u001b[0mplot\u001b[0m\u001b[0;34m(\u001b[0m\u001b[0mtime_bk_0\u001b[0m\u001b[0;34m,\u001b[0m \u001b[0mpwm\u001b[0m\u001b[0;34m,\u001b[0m \u001b[0mlabel\u001b[0m \u001b[0;34m=\u001b[0m\u001b[0;34m'pwm from driver'\u001b[0m\u001b[0;34m)\u001b[0m\u001b[0;34m\u001b[0m\u001b[0m\n",
      "\u001b[0;31mNameError\u001b[0m: name 'time_bk_0' is not defined"
     ]
    }
   ],
   "source": [
    "pylab.figure()\n",
    "pylab.plot(time_bk_0, speed * 10, label = 'omega from driver x100 rad/s')\n",
    "pylab.plot(time_bk_0, current_u, label ='cur V')\n",
    "pylab.plot(time_bk_0, current_w,label ='cur W')\n",
    "pylab.plot(time_bk_0, pwm, label ='pwm from driver')\n",
    "\n",
    "#pylab.plot(time_set_0, omega_target, label = 'target rad/s')\n",
    "pylab.plot(time_set_1, pwm_target, label = 'pwm target')\n",
    "\n",
    "pylab.grid()\n",
    "pylab.xlabel('time (sec)')\n",
    "pylab.legend()\n",
    "\n",
    "\n",
    "pylab.figure()\n",
    "pylab.plot(time_bk_1, temp / 2.3, label = 'temp')\n",
    "pylab.plot(time_bk_1, blk_counter, label ='block counter')\n",
    "pylab.plot(time_bk_1, state,label = 'state')\n",
    "pylab.plot(time_bk_1, update_omega,label = 'update flag')\n",
    "pylab.grid()\n",
    "pylab.xlabel('time (sec)')\n",
    "pylab.legend()"
   ]
  },
  {
   "cell_type": "code",
   "execution_count": 14,
   "metadata": {},
   "outputs": [],
   "source": [
    "def plot_data(dir_name, type_data):\n",
    "    dir_n = dir_name + '/'\n",
    "    time_bk_0,speed,integral,state,pwm,= numpy.loadtxt(dir_n + 'file.out')\n",
    "    #time_bk_1,temp,blk_counter,state,update_omega = numpy.loadtxt(dir_n + 'file2.out')\n",
    "    if type_data == 'omega':\n",
    "        time_set_0,omega_target = numpy.loadtxt(dir_n + 'file1.out')\n",
    "    else:\n",
    "        time_set_1,pwm_target = numpy.loadtxt(dir_n + 'file1.out')\n",
    "    \n",
    "\n",
    "\n",
    "    pylab.figure(dir_name)\n",
    "    pylab.plot(time_bk_0, speed, label = 'omega from driver')\n",
    "    pylab.plot(time_bk_0, integral / 200, label ='integral')\n",
    "    #pylab.plot(time_bk_0, state,label ='state')\n",
    "    pylab.plot(time_bk_0, pwm / 10, label ='pwm from driver / 100')\n",
    "    \n",
    "    if(type_data == 'omega'):\n",
    "        pylab.plot(time_set_0, omega_target,'--', label = 'target rad/s')\n",
    "    else:\n",
    "        pylab.plot(time_set_1, pwm_target / 10, label = 'pwm target / 10')\n",
    "\n",
    "    pylab.grid()\n",
    "    pylab.xlabel('time (sec)')\n",
    "    pylab.legend()\n",
    "    "
   ]
  },
  {
   "cell_type": "code",
   "execution_count": 41,
   "metadata": {},
   "outputs": [],
   "source": [
    "dir_n = 'omega_sin_5.2_p10_normal/'\n",
    "time_bk_0,speed,current_u,current_w,pwm,= numpy.loadtxt(dir_n + 'file.out')\n",
    "time_set_0,omega_target = numpy.loadtxt(dir_n + 'file1.out')\n",
    "time_bk_1,temp,blk_counter,state,update_omega = numpy.loadtxt(dir_n + 'file2.out')"
   ]
  },
  {
   "cell_type": "code",
   "execution_count": 42,
   "metadata": {},
   "outputs": [
    {
     "data": {
      "text/plain": [
       "<matplotlib.legend.Legend at 0x7ff510829ac8>"
      ]
     },
     "execution_count": 42,
     "metadata": {},
     "output_type": "execute_result"
    }
   ],
   "source": [
    "pylab.figure()\n",
    "pylab.plot(time_bk_0, speed * 10, label = 'omega from driver x100 rad/s')\n",
    "pylab.plot(time_bk_0, current_u, label ='cur V')\n",
    "pylab.plot(time_bk_0, current_w,label ='cur W')\n",
    "pylab.plot(time_bk_0, pwm, label ='pwm from driver')\n",
    "\n",
    "pylab.plot(time_set_0, omega_target * 10, label = 'target rad/s')\n",
    "\n",
    "pylab.grid()\n",
    "pylab.xlabel('time (sec)')\n",
    "pylab.legend()\n",
    "\n",
    "\n",
    "pylab.figure()\n",
    "pylab.plot(time_bk_1, temp / 2.3, label = 'temp')\n",
    "pylab.plot(time_bk_1, blk_counter, label ='block counter')\n",
    "pylab.plot(time_bk_1, state,label = 'state')\n",
    "pylab.plot(time_bk_1, update_omega,label = 'update flag')\n",
    "pylab.grid()\n",
    "pylab.xlabel('time (sec)')\n",
    "pylab.legend()"
   ]
  },
  {
   "cell_type": "code",
   "execution_count": 61,
   "metadata": {},
   "outputs": [
    {
     "data": {
      "text/plain": [
       "Text(0.5,0,'time (sec)')"
      ]
     },
     "execution_count": 61,
     "metadata": {},
     "output_type": "execute_result"
    }
   ],
   "source": [
    "f, axarr = plt.subplots(2, sharex=True)\n",
    "f.suptitle('Sharing X axis')\n",
    "axarr[0].plot(time_bk_0, speed * 10, label = 'omega from driver x10 rad/s')\n",
    "axarr[0].plot(time_bk_0, speed * 10, label = 'omega from driver x10 rad/s')\n",
    "axarr[0].plot(time_bk_0, current_u, label ='temp')\n",
    "axarr[0].plot(time_bk_0, current_w,label ='state')\n",
    "axarr[0].plot(time_bk_0, pwm, label ='pwm from driver')\n",
    "axarr[0].plot(time_set_1, pwm_target / 100, label = 'target rad/s / 100')\n",
    "axarr[0].grid()\n",
    "axarr[0].legend()\n",
    "\n",
    "axarr[1].plot(time_bk_1, temp / 2.3, label = 'temp')\n",
    "axarr[1].plot(time_bk_1, blk_counter, label ='block counter')\n",
    "axarr[1].plot(time_bk_1, state,label = 'state')\n",
    "axarr[1].plot(time_bk_1, update_omega,label = 'update flag')\n",
    "pylab.xlabel('time (sec)')"
   ]
  },
  {
   "cell_type": "code",
   "execution_count": 55,
   "metadata": {},
   "outputs": [
    {
     "data": {
      "text/plain": [
       "[<matplotlib.lines.Line2D at 0x7ff5104a6b38>]"
      ]
     },
     "execution_count": 55,
     "metadata": {},
     "output_type": "execute_result"
    }
   ],
   "source": [
    "axarr[1].plot(time_bk_0, current_u, label ='cur V')"
   ]
  },
  {
   "cell_type": "code",
   "execution_count": 4,
   "metadata": {},
   "outputs": [],
   "source": [
    "for n in list_dir_pwm:\n",
    "    plot_data('log12/'+n,'pwm')"
   ]
  },
  {
   "cell_type": "code",
   "execution_count": 16,
   "metadata": {},
   "outputs": [],
   "source": [
    "for n in list_dir_omega:\n",
    "    plot_data('log12/'+n,'omega')"
   ]
  },
  {
   "cell_type": "code",
   "execution_count": 5,
   "metadata": {},
   "outputs": [],
   "source": [
    "plot_data('1','omega')"
   ]
  },
  {
   "cell_type": "code",
   "execution_count": null,
   "metadata": {},
   "outputs": [],
   "source": []
  }
 ],
 "metadata": {
  "kernelspec": {
   "display_name": "Python 3",
   "language": "python",
   "name": "python3"
  },
  "language_info": {
   "codemirror_mode": {
    "name": "ipython",
    "version": 3
   },
   "file_extension": ".py",
   "mimetype": "text/x-python",
   "name": "python",
   "nbconvert_exporter": "python",
   "pygments_lexer": "ipython3",
   "version": "3.5.2"
  }
 },
 "nbformat": 4,
 "nbformat_minor": 2
}
